{
 "cells": [
  {
   "cell_type": "code",
   "execution_count": 11,
   "metadata": {},
   "outputs": [
    {
     "name": "stdout",
     "output_type": "stream",
     "text": [
      "* * * * \n",
      "* * * \n",
      "* * \n",
      "* \n"
     ]
    }
   ],
   "source": [
    "rows = 4\n",
    "sign = (\"*\")\n",
    "for i in range(rows,0,-1):\n",
    "    for j in range(i):\n",
    "        print(sign, end=\" \")\n",
    "    print()\n"
   ]
  },
  {
   "cell_type": "code",
   "execution_count": 11,
   "metadata": {},
   "outputs": [
    {
     "name": "stdout",
     "output_type": "stream",
     "text": [
      "* \n",
      "* * \n",
      "* * * \n",
      "* * * * \n"
     ]
    }
   ],
   "source": [
    "sign = (\"*\")\n",
    "row = 4\n",
    "for i in range(1, row +1, 1):\n",
    "    for j in range(i):\n",
    "        print(sign, end=' ')\n",
    "   \n",
    "    print()\n"
   ]
  },
  {
   "cell_type": "markdown",
   "metadata": {},
   "source": [
    "# Hello\n",
    "**Assignment**\n",
    "\n",
    "Hope this email finds you well. Today we have covered control flow and how we can implement this in your Python Code.  For practice, I would like you to implement the following as your after class take away assignment:\n",
    "\n",
    "1. Write a program that determines whether a number is even or odd. Print a message indicating whether the number is even or odd.\n",
    "2. Write a program that checks if a given year is a leap year. A leap year is divisible by 4, but not divisible by 100, except if its divisible by 400.\n",
    "3. Write a program that will use age to determine the price of a movie theater.\n",
    "Age < 13  price Ksh 400\n",
    "13 <= Age <=17 Ksh 600\n",
    "18 <= Age 65 <= Ksh 800\n",
    "Age > 65 Ksh 350\n",
    "I have shared with you a link where you can submit your work. This will help us a lot in improving our programming skills and step by step we will eventually get there.\n",
    "\n",
    "Best "
   ]
  },
  {
   "cell_type": "code",
   "execution_count": 19,
   "metadata": {},
   "outputs": [
    {
     "name": "stdout",
     "output_type": "stream",
     "text": [
      "C\n"
     ]
    }
   ],
   "source": [
    "grade = 54\n",
    "\n",
    "if (grade >=70):\n",
    "    print(\"A\")\n",
    "elif (grade < 70) and (grade >= 60):\n",
    "    print(\"B\")\n",
    "elif (grade <60) and (grade >=50):\n",
    "    print(\"C\")\n",
    "elif (grade <50) and (grade >=40):\n",
    "    print(\"D\")\n",
    "else:\n",
    "    print(\"Resit\")"
   ]
  },
  {
   "cell_type": "code",
   "execution_count": null,
   "metadata": {},
   "outputs": [],
   "source": []
  },
  {
   "cell_type": "markdown",
   "metadata": {},
   "source": [
    "# Premier League Table\n",
    "\n",
    "**English Premier**\n",
    "| |Team| W | D | L|\n",
    "|:----|:----------|:----:|:----:|:----:|\n",
    "|1| Manchester Utd| 3 | 0 | 0|\n",
    "|2| Chelsea | 3| 2| 1 | 0|\n",
    "|3| Arsenal |3| 1| 1|1|"
   ]
  }
 ],
 "metadata": {
  "kernelspec": {
   "display_name": "Python 3",
   "language": "python",
   "name": "python3"
  },
  "language_info": {
   "codemirror_mode": {
    "name": "ipython",
    "version": 3
   },
   "file_extension": ".py",
   "mimetype": "text/x-python",
   "name": "python",
   "nbconvert_exporter": "python",
   "pygments_lexer": "ipython3",
   "version": "3.10.12"
  },
  "orig_nbformat": 4
 },
 "nbformat": 4,
 "nbformat_minor": 2
}
