{
 "cells": [
  {
   "cell_type": "markdown",
   "metadata": {},
   "source": [
    "#Dictionary\n",
    "\n",
    "*use curly bracket (```{}```) to define dictionary\n",
    "\n",
    "*syntax\n",
    "\n",
    "```key: Value```"
   ]
  },
  {
   "cell_type": "code",
   "execution_count": 4,
   "metadata": {},
   "outputs": [
    {
     "name": "stdout",
     "output_type": "stream",
     "text": [
      "{'Name_Student': 'Yussuf', 'id': 12345, 'Gender': 'Male'}\n"
     ]
    }
   ],
   "source": [
    "# example a dictionary\n",
    "\n",
    "student = {\n",
    "    \"Name_Student\" : \"Yussuf\",\n",
    "    \"id\" : 12345,\n",
    "    \"Gender\" : \"Male\"\n",
    "}\n",
    "\n",
    "print(student)"
   ]
  },
  {
   "cell_type": "code",
   "execution_count": 64,
   "metadata": {},
   "outputs": [
    {
     "name": "stdout",
     "output_type": "stream",
     "text": [
      "{'sky': ['Nyambane', 'Eugene', 'Yussuf'], 'friend of sky': ['Martin', 'Lumumba', 'Chemu'], 'kitchen': ['Maggy', 'Eva', 'Linda'], 'office Keepers': ['Kocheli', 'Ngubiro', 'John']}\n"
     ]
    }
   ],
   "source": [
    "\n",
    "office ={\n",
    "    \"sky\": [\"Nyambane\", \"Eugene\", \"Yussuf\"],\n",
    "    \"friend of sky\":  [\"Martin\", \"Lumumba\", \"Chemu\"],\n",
    "    \"kitchen\": [\"Maggy\", \"Eva\", \"Linda\"],\n",
    "    \"office Keepers\": [\"Kocheli\", \"Ngubiro\", \"John\"]\n",
    "}\n",
    "\n",
    "print(office)"
   ]
  },
  {
   "cell_type": "code",
   "execution_count": 8,
   "metadata": {},
   "outputs": [
    {
     "data": {
      "text/plain": [
       "dict_keys(['sky', 'friend of sky', 'kitchen', 'office Keepers'])"
      ]
     },
     "execution_count": 8,
     "metadata": {},
     "output_type": "execute_result"
    }
   ],
   "source": [
    "#Key of the dictionary\n",
    "\n",
    "office.keys()"
   ]
  },
  {
   "cell_type": "code",
   "execution_count": 65,
   "metadata": {},
   "outputs": [
    {
     "name": "stdout",
     "output_type": "stream",
     "text": [
      "['Nyambane', 'Eugene', 'Yussuf']\n"
     ]
    }
   ],
   "source": [
    "#access values in dictionary using keys\n",
    "#syntax dict_name [key]\n",
    "\n",
    "print(office['sky'])"
   ]
  },
  {
   "cell_type": "code",
   "execution_count": 59,
   "metadata": {},
   "outputs": [
    {
     "name": "stdout",
     "output_type": "stream",
     "text": [
      "['Osewe', 'Nyambane', 'Eugene', 'Yussuf', 'Kirui', 'Kirui']\n"
     ]
    }
   ],
   "source": [
    "office[\"sky\"].append(\"Kirui\")\n",
    "\n",
    "print(office['sky'])"
   ]
  },
  {
   "cell_type": "code",
   "execution_count": 33,
   "metadata": {},
   "outputs": [
    {
     "name": "stdout",
     "output_type": "stream",
     "text": [
      "['Osewe', 'Nyambane', 'Eugene', 'Yussuf', 'Kirui']\n"
     ]
    }
   ],
   "source": [
    "office[\"sky\"].insert(0, \"Osewe\")\n",
    "\n",
    "print(office['sky'])"
   ]
  },
  {
   "cell_type": "code",
   "execution_count": 62,
   "metadata": {},
   "outputs": [
    {
     "name": "stdout",
     "output_type": "stream",
     "text": [
      "Yussuf\n"
     ]
    }
   ],
   "source": [
    "if \"Yussuf\" in office[\"sky\"]:\n",
    "    print(\"Yussuf\")"
   ]
  },
  {
   "cell_type": "code",
   "execution_count": 80,
   "metadata": {},
   "outputs": [],
   "source": [
    "menu = {\n",
    "    \"Breakfast\" : {\n",
    "        \"Beverages\" : {\n",
    "            \"Tea\" : [\"Masala\", \"Ginger\", \"Caramel\"],\n",
    "            \"Coffee\" : [ \"Black\", \"White\", \"Latte\"],\n",
    "            \"Cocoa\" : [\"Hot Chocolate\", \"Free range\"],\n",
    "        },\n",
    "        \n",
    "        \"accompaniment\" : {\n",
    "            \"wings\" : [\"hot wings\", \"spicy\", \"lemon and herbs\"],\n",
    "            \"kienyeji\" : [\"nduma\", \"nguashe\", \"cassava\"],\n",
    "        },\n",
    "    \n",
    "    },\n",
    "    \"Lunch\" : {\n",
    "        \"Carbohydrates\" : [\"ugali\", \"Mokimo\", \"Rice\"],\n",
    "        \"Veg\" : [\"sukuma\", \"cabbage\"],\n",
    "        \"Proteins\": [\"chicken\", \"fish\", \"mutton\"],     \n",
    "    }\n",
    "}"
   ]
  },
  {
   "cell_type": "code",
   "execution_count": 92,
   "metadata": {},
   "outputs": [
    {
     "name": "stdout",
     "output_type": "stream",
     "text": [
      "Yussuf had : \n",
      "\t*Ginger with hot wings\n"
     ]
    }
   ],
   "source": [
    "print(f\"{office['sky'][2]} had : \\n\\t*{menu['Breakfast']['Beverages']['Tea'][1]} with {menu['Breakfast']['accompaniment']['wings'][0]}\")\n"
   ]
  }
 ],
 "metadata": {
  "kernelspec": {
   "display_name": "Python 3",
   "language": "python",
   "name": "python3"
  },
  "language_info": {
   "codemirror_mode": {
    "name": "ipython",
    "version": 3
   },
   "file_extension": ".py",
   "mimetype": "text/x-python",
   "name": "python",
   "nbconvert_exporter": "python",
   "pygments_lexer": "ipython3",
   "version": "3.10.12"
  },
  "orig_nbformat": 4
 },
 "nbformat": 4,
 "nbformat_minor": 2
}
