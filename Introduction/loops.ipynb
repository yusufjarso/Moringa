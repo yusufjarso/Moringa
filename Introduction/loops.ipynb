{
 "cells": [
  {
   "cell_type": "code",
   "execution_count": null,
   "metadata": {},
   "outputs": [],
   "source": [
    "for num in range(1, 10):\n",
    "    print(num)"
   ]
  },
  {
   "cell_type": "code",
   "execution_count": null,
   "metadata": {},
   "outputs": [],
   "source": [
    "\n",
    "count = 0\n",
    "\n",
    "while (count<5):\n",
    "    print(\"count:\", count)\n",
    "    count +=1"
   ]
  },
  {
   "cell_type": "code",
   "execution_count": null,
   "metadata": {},
   "outputs": [],
   "source": [
    "number = [1,2,3,4,5,6,7,8,9]\n",
    "\n",
    "even_numbers=[]\n",
    "\n",
    "for num in number:\n",
    "    print(num)"
   ]
  },
  {
   "cell_type": "code",
   "execution_count": null,
   "metadata": {},
   "outputs": [],
   "source": [
    "for num in number:\n",
    "    if(num % 2 ==0):\n",
    "        even_numbers.append(num)\n",
    "        \n",
    "print(even_numbers)\n",
    "\n"
   ]
  },
  {
   "cell_type": "code",
   "execution_count": null,
   "metadata": {},
   "outputs": [],
   "source": [
    "sum = 0\n",
    "\n",
    "for num in range(1, 11):\n",
    "    sum +=num\n",
    "    \n",
    "    \n",
    "print(sum)"
   ]
  },
  {
   "cell_type": "code",
   "execution_count": null,
   "metadata": {},
   "outputs": [],
   "source": [
    "print(\"This is example of loops\")\n",
    "print(\"This is demostrating loop\")\n",
    "\n",
    "countdown = 5\n",
    " \n",
    "while (countdown>0):\n",
    "    print(f\"Countdown Value: {countdown}!!\")\n",
    "    countdown -=1\n",
    "    \n",
    "print(\"Exit Loop !! and program continues\")"
   ]
  },
  {
   "cell_type": "markdown",
   "metadata": {},
   "source": [
    "```\n",
    "for item in sequence:\n",
    "    # code to be executed for each item\n",
    "    # ...\n",
    "```\n",
    "\n",
    "* `for`: Keyword that signals the start of a for loop.\n",
    "* `item`: Is a variable that represents the current item in the sequence during each iteration of the loop.\n",
    "* `in` : A keyword used to specify that you are iterating *in* the given sequence.\n",
    "* `sequence` : Collection of items that you want to iterate over (e.g., list, string, tuple, or range).\n",
    "* `:` : Signifies the start of the ind\n",
    "dented code block that will be executed for each iteration of the loop. \n",
    "\n",
    "Inside the indented code block, you place the actions or operations that you want to perform on each item in the sequence.The loop will automatically iterate through the entire sequence, executing the code block for each item."
   ]
  },
  {
   "cell_type": "code",
   "execution_count": null,
   "metadata": {},
   "outputs": [],
   "source": [
    "4 == 5"
   ]
  },
  {
   "cell_type": "code",
   "execution_count": null,
   "metadata": {},
   "outputs": [],
   "source": [
    "name = [ 'Alex', 'Yussuf', 'Joseph', 'Dominic', 'Solo', 'Jim']\n",
    "\n",
    "for i in name: \n",
    "    # code block to execute\n",
    "    print(i)\n",
    "    if (i == 'Joseph'):\n",
    "        break;\n"
   ]
  },
  {
   "cell_type": "markdown",
   "metadata": {},
   "source": [
    "### Sequence Types\n",
    "\n",
    "* Refers to data structures that hold a collection of elements, where each element is accessible by an index or a key.\n",
    "* These elements are ordered, meaning they have a specific position with the sequence."
   ]
  },
  {
   "cell_type": "code",
   "execution_count": null,
   "metadata": {},
   "outputs": [],
   "source": [
    "name = [ 'Alex', 'Yussuf', 'Joseph', 'Dominic', 'Solo', 'Jim']\n",
    "\n",
    "for nam in name:\n",
    "    lower_case = nam.lower()\n",
    "    print(lower_case) \n"
   ]
  },
  {
   "cell_type": "code",
   "execution_count": null,
   "metadata": {},
   "outputs": [],
   "source": [
    "word =\"Judiciary\"\n",
    "\n",
    "word_chars = []\n",
    "\n",
    "for char in word:\n",
    "    word_chars.append(char)\n",
    "    \n",
    "print(word_chars)"
   ]
  },
  {
   "cell_type": "code",
   "execution_count": null,
   "metadata": {},
   "outputs": [],
   "source": [
    "odd_nums = []\n",
    "\n",
    "for num in range(1, 10):\n",
    "    if (num % 2 ==1 ):\n",
    "        odd_nums.append(num)    \n",
    "    \n",
    "print(odd_nums)\n"
   ]
  },
  {
   "cell_type": "code",
   "execution_count": null,
   "metadata": {},
   "outputs": [],
   "source": [
    "for num in range(1, 6):\n",
    "    square = num **2\n",
    "    print(f\"The square of {num}: = {square}\")\n",
    "    "
   ]
  },
  {
   "cell_type": "markdown",
   "metadata": {},
   "source": [
    "### `range()`\n",
    "\n",
    "* a function commonly used especially when working with loops.\n",
    "* Generates a sequence of numbers within a specified range, which can be used for various purposes, e.g., iterating through a loop of certain numbers or creating a list of numbers.\n",
    "* `range()` takes up to three arguments:\n",
    "\n",
    "1. **start(inclusive, optional)** - The starting value of the sequence. If omitted, the sequence starts from zero by default.\n",
    "2. **stop(exclusive)** - The ending value of the sequence. The sequence will go up to the value, but not include the value in the sequence. example if stop is 50, and start is 0, the sequence will be all the numbers including 0 to 49, but not 50.\n",
    "3. **step(optional)** - The difference between consecutive values in the sequence. By default, the value of step is 1."
   ]
  },
  {
   "cell_type": "code",
   "execution_count": null,
   "metadata": {},
   "outputs": [],
   "source": [
    "def greet_students(student_name):\n",
    "    message = (f\"Hallo {student_name}, welcome to training\")\n",
    "    return print(message)\n",
    "greet_students(\"Dominic\")"
   ]
  },
  {
   "cell_type": "code",
   "execution_count": null,
   "metadata": {},
   "outputs": [],
   "source": [
    "for num in range(11):\n",
    "    print(num)"
   ]
  },
  {
   "cell_type": "code",
   "execution_count": null,
   "metadata": {},
   "outputs": [],
   "source": [
    "for num in range(20, 25):\n",
    "    print(num)"
   ]
  },
  {
   "cell_type": "code",
   "execution_count": null,
   "metadata": {},
   "outputs": [],
   "source": []
  },
  {
   "cell_type": "code",
   "execution_count": null,
   "metadata": {},
   "outputs": [],
   "source": [
    "for num in range(2, 12,2):\n",
    "    print(num)"
   ]
  },
  {
   "cell_type": "code",
   "execution_count": null,
   "metadata": {},
   "outputs": [],
   "source": [
    "student = (\"Kirui\", \"Alex\", \"Yussuf\")\n",
    "item_1 = student\n",
    "\n",
    "for pupil in student:\n",
    "    for letters in pupil:\n",
    "        print(letters)\n",
    "    print()"
   ]
  },
  {
   "cell_type": "code",
   "execution_count": null,
   "metadata": {},
   "outputs": [],
   "source": [
    "rows = 3\n",
    "sign =(\"*\")\n",
    "for i in sign:\n",
    "    for j in range(rows+1):\n",
    "        print(i, end =\"\")\n",
    "    print()\n",
    "  "
   ]
  },
  {
   "cell_type": "code",
   "execution_count": null,
   "metadata": {},
   "outputs": [],
   "source": [
    "rows = 5\n",
    "for i in range(rows):\n",
    "    for k in range(rows -i -1):\n",
    "        print('', end=' ')\n",
    "    for j in range(i+1):\n",
    "        print('*', end=' ')\n",
    "    print()"
   ]
  },
  {
   "cell_type": "code",
   "execution_count": null,
   "metadata": {},
   "outputs": [],
   "source": [
    "rows = 4\n",
    "for i in range(rows):\n",
    "    for k in range(rows -i -1):\n",
    "        print(' ', end=' ')\n",
    "    for j in range (i+1):\n",
    "        print('*', end=' ')\n",
    "    print()"
   ]
  },
  {
   "cell_type": "code",
   "execution_count": null,
   "metadata": {},
   "outputs": [],
   "source": [
    "for i in range(10):\n",
    "    if (i ==5):\n",
    "        break\n",
    "    print(i)"
   ]
  },
  {
   "cell_type": "code",
   "execution_count": null,
   "metadata": {},
   "outputs": [],
   "source": [
    "for i in range(10):\n",
    "    print(i)\n",
    "    if (i == 5):\n",
    "        break\n"
   ]
  },
  {
   "cell_type": "markdown",
   "metadata": {},
   "source": [
    "* **Continue** - Used to skip the remaining code in the current iteration of a loop and move to the next iteration. Useful when you want to skip certain steps or conditions within a loop without exiting the loop entirely."
   ]
  },
  {
   "cell_type": "code",
   "execution_count": null,
   "metadata": {},
   "outputs": [],
   "source": [
    "#food list\n",
    "\n",
    "breakfast = [\"Eggs\", \"Mahamri\", \"Mbaazi\", \"Vucheni\", \"Tea\"]\n",
    "\n",
    "yusuf_list = []\n",
    "\n",
    "\n",
    "for food in breakfast:\n",
    "    if (food == \"Eggs\" or food ==\"Vucheni\"):\n",
    "        continue\n",
    "    else:\n",
    "        yusuf_list.append(food)\n",
    "        \n",
    "print(yusuf_list)"
   ]
  },
  {
   "cell_type": "code",
   "execution_count": 38,
   "metadata": {},
   "outputs": [
    {
     "name": "stdout",
     "output_type": "stream",
     "text": [
      "0\n",
      "1\n",
      "2\n",
      "3\n",
      "4\n",
      "6\n",
      "7\n",
      "8\n",
      "9\n"
     ]
    }
   ],
   "source": [
    "for i in range(10):\n",
    "    if (i ==5):\n",
    "        continue\n",
    "    print(i)"
   ]
  },
  {
   "cell_type": "markdown",
   "metadata": {},
   "source": [
    "### While Loops\n",
    "\n",
    "* Allow you to repeat a block of code as long as a certain condition remains `True`.\n",
    "* Basic Syntax \n",
    "```\n",
    "while condition:\n",
    "    # code block \n",
    "    # to execute\n",
    "\n",
    "\n",
    "*It's crucial to make sure that the condition eventually becomes `False` Reason - otherwise you will end up with an infinite loop, cause your program to run indefinitely(Well till your ram crashes)\n",
    "\n"
   ]
  },
  {
   "cell_type": "markdown",
   "metadata": {},
   "source": [
    "#### While Loop key concepts \n",
    "\n",
    "1. **Initialization** - Initialize any variables that are used in loop condition before entering the loop.\n",
    "2. **Update our condition** - Inside the loop, make sure that the condition is modified in a way that leads to it eventually becoming `False`. Otherwise you will create an infinite loop."
   ]
  },
  {
   "cell_type": "code",
   "execution_count": 40,
   "metadata": {},
   "outputs": [
    {
     "name": "stdout",
     "output_type": "stream",
     "text": [
      "1\n",
      "2\n",
      "3\n",
      "4\n",
      "5\n"
     ]
    }
   ],
   "source": [
    "#Execute - while loop to print number \n",
    "count = 1 # Initialize\n",
    "\n",
    "while (count <=5): # while loop conditions\n",
    "    print(count)\n",
    "    count +=1 #updating our condition after every iterations"
   ]
  },
  {
   "cell_type": "code",
   "execution_count": 42,
   "metadata": {},
   "outputs": [
    {
     "name": "stdout",
     "output_type": "stream",
     "text": [
      "Apple\n",
      "Banana\n"
     ]
    }
   ],
   "source": [
    "fruit = [\"Apple\", \"Banana\", \"Cherry\", \"Mango\", \"Pawpaw\"]\n",
    "\n",
    "print(fruit[0])\n",
    "print(fruit[1])\n",
    "\n"
   ]
  },
  {
   "cell_type": "code",
   "execution_count": 46,
   "metadata": {},
   "outputs": [
    {
     "name": "stdout",
     "output_type": "stream",
     "text": [
      "Apple\n",
      "Banana\n",
      "Cherry\n",
      "Mango\n",
      "Pawpaw\n"
     ]
    }
   ],
   "source": [
    "index = 0\n",
    "\n",
    "while (index < len(fruit)):\n",
    "    print(fruit[index])\n",
    "    index +=1"
   ]
  },
  {
   "cell_type": "code",
   "execution_count": 47,
   "metadata": {},
   "outputs": [
    {
     "name": "stdout",
     "output_type": "stream",
     "text": [
      "1 * 9 = 9\n",
      "2 * 9 = 18\n",
      "3 * 9 = 27\n",
      "4 * 9 = 36\n",
      "5 * 9 = 45\n",
      "6 * 9 = 54\n",
      "7 * 9 = 63\n",
      "8 * 9 = 72\n",
      "9 * 9 = 81\n",
      "10 * 9 = 90\n"
     ]
    }
   ],
   "source": [
    "multiplier = 1\n",
    "\n",
    "while (multiplier <=10):\n",
    "    product = multiplier * 9\n",
    "    print(f\"{multiplier} * 9 = {product}\")\n",
    "    \n",
    "    multiplier +=1\n",
    "    \n",
    "    "
   ]
  },
  {
   "cell_type": "code",
   "execution_count": 52,
   "metadata": {},
   "outputs": [
    {
     "name": "stdout",
     "output_type": "stream",
     "text": [
      "* \n",
      "* * \n",
      "* * * \n",
      "* * * * \n",
      "* * * * * \n"
     ]
    }
   ],
   "source": [
    "rows = 5\n",
    "i = 0\n",
    "\n",
    "while (i < rows):\n",
    "    j = 0\n",
    "    while j <= i:\n",
    "        print(\"*\", end =\" \")\n",
    "        j +=1\n",
    "        \n",
    "    print()\n",
    "    i +=1\n",
    "        "
   ]
  }
 ],
 "metadata": {
  "kernelspec": {
   "display_name": "Python 3",
   "language": "python",
   "name": "python3"
  },
  "language_info": {
   "codemirror_mode": {
    "name": "ipython",
    "version": 3
   },
   "file_extension": ".py",
   "mimetype": "text/x-python",
   "name": "python",
   "nbconvert_exporter": "python",
   "pygments_lexer": "ipython3",
   "version": "3.10.12"
  },
  "orig_nbformat": 4
 },
 "nbformat": 4,
 "nbformat_minor": 2
}
