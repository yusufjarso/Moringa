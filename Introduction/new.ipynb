{
 "cells": [
  {
   "cell_type": "code",
   "execution_count": 1,
   "metadata": {},
   "outputs": [
    {
     "ename": "KeyboardInterrupt",
     "evalue": "",
     "output_type": "error",
     "traceback": [
      "\u001b[0;31m---------------------------------------------------------------------------\u001b[0m",
      "\u001b[0;31mKeyboardInterrupt\u001b[0m                         Traceback (most recent call last)",
      "Cell \u001b[0;32mIn[1], line 71\u001b[0m\n\u001b[1;32m     68\u001b[0m button_save_tasks \u001b[39m=\u001b[39m tkinter\u001b[39m.\u001b[39mButton(root, text\u001b[39m=\u001b[39m\u001b[39m\"\u001b[39m\u001b[39mSave tasks\u001b[39m\u001b[39m\"\u001b[39m, width\u001b[39m=\u001b[39m\u001b[39m48\u001b[39m, command\u001b[39m=\u001b[39msave_tasks)\n\u001b[1;32m     69\u001b[0m button_save_tasks\u001b[39m.\u001b[39mpack()\n\u001b[0;32m---> 71\u001b[0m root\u001b[39m.\u001b[39;49mmainloop()\n",
      "File \u001b[0;32m/usr/lib/python3.10/tkinter/__init__.py:1458\u001b[0m, in \u001b[0;36mMisc.mainloop\u001b[0;34m(self, n)\u001b[0m\n\u001b[1;32m   1456\u001b[0m \u001b[39mdef\u001b[39;00m \u001b[39mmainloop\u001b[39m(\u001b[39mself\u001b[39m, n\u001b[39m=\u001b[39m\u001b[39m0\u001b[39m):\n\u001b[1;32m   1457\u001b[0m \u001b[39m    \u001b[39m\u001b[39m\"\"\"Call the mainloop of Tk.\"\"\"\u001b[39;00m\n\u001b[0;32m-> 1458\u001b[0m     \u001b[39mself\u001b[39;49m\u001b[39m.\u001b[39;49mtk\u001b[39m.\u001b[39;49mmainloop(n)\n",
      "\u001b[0;31mKeyboardInterrupt\u001b[0m: "
     ]
    }
   ],
   "source": [
    "# Simple To-Do List App\n",
    "# by TokyoEdtech\n",
    "# Python 3.8 using Geany Editor\n",
    "# Ubuntu Linux (Mac and Windows Compatible)\n",
    "# Topics: tkinter, grid geometry manager\n",
    "# Topics: Listbox Widget, Scrollbar widget, tkinter.messagebox, Try/Except Block, pickle\n",
    "\n",
    "import tkinter\n",
    "import tkinter.messagebox\n",
    "import pickle\n",
    "\n",
    "root = tkinter.Tk()\n",
    "root.title(\"To-Do List by @TokyoEdtech\")\n",
    "\n",
    "def add_task():\n",
    "    task = entry_task.get()\n",
    "    if task != \"\":\n",
    "        listbox_tasks.insert(tkinter.END, task)\n",
    "        entry_task.delete(0, tkinter.END)\n",
    "    else:\n",
    "        tkinter.messagebox.showwarning(title=\"Warning!\", message=\"You must enter a task.\")\n",
    "\n",
    "def delete_task():\n",
    "    try:\n",
    "        task_index = listbox_tasks.curselection()[0]\n",
    "        listbox_tasks.delete(task_index)\n",
    "    except:\n",
    "        tkinter.messagebox.showwarning(title=\"Warning!\", message=\"You must select a task.\")\n",
    "\n",
    "def load_tasks():\n",
    "    try:\n",
    "        tasks = pickle.load(open(\"tasks.dat\", \"rb\"))\n",
    "        listbox_tasks.delete(0, tkinter.END)\n",
    "        for task in tasks:\n",
    "            listbox_tasks.insert(tkinter.END, task)\n",
    "    except:\n",
    "        tkinter.messagebox.showwarning(title=\"Warning!\", message=\"Cannot find tasks.dat.\")\n",
    "\n",
    "def save_tasks():\n",
    "    tasks = listbox_tasks.get(0, listbox_tasks.size())\n",
    "    pickle.dump(tasks, open(\"tasks.dat\", \"wb\"))\n",
    "\n",
    "# Create GUI\n",
    "frame_tasks = tkinter.Frame(root)\n",
    "frame_tasks.pack()\n",
    "\n",
    "listbox_tasks = tkinter.Listbox(frame_tasks, height=10, width=50)\n",
    "listbox_tasks.pack(side=tkinter.LEFT)\n",
    "\n",
    "scrollbar_tasks = tkinter.Scrollbar(frame_tasks)\n",
    "scrollbar_tasks.pack(side=tkinter.RIGHT, fill=tkinter.Y)\n",
    "\n",
    "listbox_tasks.config(yscrollcommand=scrollbar_tasks.set)\n",
    "scrollbar_tasks.config(command=listbox_tasks.yview)\n",
    "\n",
    "entry_task = tkinter.Entry(root, width=50)\n",
    "entry_task.pack()\n",
    "\n",
    "button_add_task = tkinter.Button(root, text=\"Add task\", width=48, command=add_task)\n",
    "button_add_task.pack()\n",
    "\n",
    "button_delete_task = tkinter.Button(root, text=\"Delete task\", width=48, command=delete_task)\n",
    "button_delete_task.pack()\n",
    "\n",
    "button_load_tasks = tkinter.Button(root, text=\"Load tasks\", width=48, command=load_tasks)\n",
    "button_load_tasks.pack()\n",
    "\n",
    "button_save_tasks = tkinter.Button(root, text=\"Save tasks\", width=48, command=save_tasks)\n",
    "button_save_tasks.pack()\n",
    "\n",
    "root.mainloop()"
   ]
  }
 ],
 "metadata": {
  "kernelspec": {
   "display_name": "Python 3",
   "language": "python",
   "name": "python3"
  },
  "language_info": {
   "codemirror_mode": {
    "name": "ipython",
    "version": 3
   },
   "file_extension": ".py",
   "mimetype": "text/x-python",
   "name": "python",
   "nbconvert_exporter": "python",
   "pygments_lexer": "ipython3",
   "version": "3.10.12"
  },
  "orig_nbformat": 4
 },
 "nbformat": 4,
 "nbformat_minor": 2
}
