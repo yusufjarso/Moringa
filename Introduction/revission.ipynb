{
 "cells": [
  {
   "cell_type": "markdown",
   "metadata": {},
   "source": [
    "### Function\n",
    "* Has two part - `definition` and `call`"
   ]
  },
  {
   "cell_type": "code",
   "execution_count": null,
   "metadata": {},
   "outputs": [],
   "source": [
    "# Get Student grades\n",
    "def get_grade():\n",
    "    \"\"\"get user input\"\"\"\n",
    "    #count = 5\n",
    "    student_scores = []\n",
    "    subjects = [\"English\", \"Kiswahili\", \"Math\", \"Science\", \"GHC\"]\n",
    "    #while count <=5:\n",
    "    for subject in subjects:\n",
    "        score = int(input(f\"Enter {subject} Score \\n\"))\n",
    "        student_scores.append(score)\n",
    "        #count +1\n",
    "    return student_scores\n",
    "\n",
    "get_grade()"
   ]
  },
  {
   "cell_type": "code",
   "execution_count": null,
   "metadata": {},
   "outputs": [
    {
     "data": {
      "text/plain": [
       "'Yussuf'"
      ]
     },
     "execution_count": 1,
     "metadata": {},
     "output_type": "execute_result"
    }
   ],
   "source": [
    "# get student name\n",
    "def get_student_name():\n",
    "    students = input(\"Student name e.g. Dominic \\n\")\n",
    "    return students  \n",
    "get_student_name()"
   ]
  },
  {
   "cell_type": "code",
   "execution_count": null,
   "metadata": {},
   "outputs": [
    {
     "data": {
      "text/plain": [
       "400"
      ]
     },
     "execution_count": 10,
     "metadata": {},
     "output_type": "execute_result"
    }
   ],
   "source": [
    "\n",
    "def get_students_total():\n",
    "    \n",
    "    \"\"\"Get total Scores\n",
    "    Return:\n",
    "        Total Students scores out of 499\n",
    "    \"\"\"\n",
    "    student_scores = get_grade()\n",
    "    total = sum(student_scores)\n",
    "    \n",
    "    return total\n",
    "\n",
    "get_students_total()"
   ]
  },
  {
   "cell_type": "code",
   "execution_count": null,
   "metadata": {},
   "outputs": [
    {
     "data": {
      "text/plain": [
       "('Yussuf', [80, 50, 60, 70, 80], ['A', 'C', 'B', 'A', 'A'], 340)"
      ]
     },
     "execution_count": 14,
     "metadata": {},
     "output_type": "execute_result"
    }
   ],
   "source": [
    "def student_performance():\n",
    "    \"\"\"Student performance:\n",
    "    Get Student Name\n",
    "    Get Student Scores\n",
    "    Get Student Grades\n",
    "    Sum of Student scores\n",
    "    return:\n",
    "        Student name, score, grades, sum\"\"\"\n",
    "    student_name = get_student_name()\n",
    "    student_score = get_grade()\n",
    "    student_grades= []\n",
    "    #loop through the grades\n",
    "    for score in student_score:\n",
    "        if (score >= 70) and (score <=100):\n",
    "            grade = (\"A\")\n",
    "            student_grades.append(grade)\n",
    "        elif (score <= 69) and (score >=60):\n",
    "            grade = (\"B\")\n",
    "            student_grades.append(grade)\n",
    "        elif (score <=59) and (score >=50):\n",
    "            grade = ( \"C\")\n",
    "            student_grades.append(grade)\n",
    "        elif (score <=49) and (score >=40):\n",
    "            grade = ( \"D\")\n",
    "            student_grades.append(grade)\n",
    "        elif (score<=39) and (score >=0):\n",
    "            grade = (\"E\")\n",
    "        else:\n",
    "            print(\"Invalid grade\")\n",
    "            student_grades.append(None)\n",
    "   \n",
    "    total = sum(student_score)\n",
    "\n",
    "    \n",
    "    return student_name, student_score, student_grades, total\n",
    "\n",
    "student_performance()\n"
   ]
  },
  {
   "cell_type": "code",
   "execution_count": null,
   "metadata": {},
   "outputs": [
    {
     "name": "stdout",
     "output_type": "stream",
     "text": [
      "{'Name': ['Dominic', 'Yussuf', 'Abdi'], 'English': [80, 80, 90], 'English_grade': ['A', 'A', 'A'], 'Kiswahili': [70, 70, 60], 'Kiswahili_grade': ['A', 'A', 'B'], 'Math': [80, 50, 70], 'Math_grade': ['A', 'C', 'A'], 'Science': [60, 60, 45], 'Science_grade': ['B', 'B', 'D'], 'GHC': [80, 70, 70], 'GHC_grade': [80, 70, 70], 'Total': [370, 330, 335]}\n"
     ]
    }
   ],
   "source": [
    "student_number = 0\n",
    "class_performance = {\n",
    "    \"Name\": [],\n",
    "    \"English\": [],\n",
    "    \"English_grade\": [],\n",
    "    \"Kiswahili\": [],  \n",
    "    \"Kiswahili_grade\": [],\n",
    "    \"Math\": [],\n",
    "    \"Math_grade\": [],\n",
    "    \"Science\": [],\n",
    "    \"Science_grade\": [],\n",
    "    \"GHC\": [],\n",
    "    \"GHC_grade\": [],\n",
    "    \"Total\": []\n",
    "}\n",
    "while (student_number <=2):\n",
    "    individual_student = student_performance ()\n",
    "    individual_student = list(individual_student)\n",
    "    class_performance[\"Name\"].append(individual_student[0])\n",
    "    class_performance[\"English\"].append(individual_student[1][0])\n",
    "    class_performance[\"English_grade\"].append(individual_student[2][0])\n",
    "    class_performance[\"Kiswahili\"].append(individual_student[1][1])\n",
    "    class_performance[\"Kiswahili_grade\"].append(individual_student[2][1])\n",
    "    class_performance[\"Math\"].append(individual_student[1][2])\n",
    "    class_performance[\"Math_grade\"].append(individual_student[2][2])\n",
    "    class_performance[\"Science\"].append(individual_student[1][3])\n",
    "    class_performance[\"Science_grade\"].append(individual_student[2][3])\n",
    "    class_performance[\"GHC\"].append(individual_student[1][4])\n",
    "    class_performance[\"GHC_grade\"].append(individual_student[1][4])\n",
    "    class_performance[\"Total\"].append(individual_student[3])\n",
    "\n",
    "    student_number +=1\n",
    "    \n",
    "\n",
    "print(class_performance)\n",
    "    \n",
    "    "
   ]
  },
  {
   "cell_type": "code",
   "execution_count": null,
   "metadata": {},
   "outputs": [
    {
     "data": {
      "text/html": [
       "<div>\n",
       "<style scoped>\n",
       "    .dataframe tbody tr th:only-of-type {\n",
       "        vertical-align: middle;\n",
       "    }\n",
       "\n",
       "    .dataframe tbody tr th {\n",
       "        vertical-align: top;\n",
       "    }\n",
       "\n",
       "    .dataframe thead th {\n",
       "        text-align: right;\n",
       "    }\n",
       "</style>\n",
       "<table border=\"1\" class=\"dataframe\">\n",
       "  <thead>\n",
       "    <tr style=\"text-align: right;\">\n",
       "      <th></th>\n",
       "      <th>Name</th>\n",
       "      <th>English</th>\n",
       "      <th>English_grade</th>\n",
       "      <th>Kiswahili</th>\n",
       "      <th>Kiswahili_grade</th>\n",
       "      <th>Math</th>\n",
       "      <th>Math_grade</th>\n",
       "      <th>Science</th>\n",
       "      <th>Science_grade</th>\n",
       "      <th>GHC</th>\n",
       "      <th>GHC_grade</th>\n",
       "      <th>Total</th>\n",
       "    </tr>\n",
       "  </thead>\n",
       "  <tbody>\n",
       "    <tr>\n",
       "      <th>0</th>\n",
       "      <td>Dominic</td>\n",
       "      <td>80</td>\n",
       "      <td>A</td>\n",
       "      <td>70</td>\n",
       "      <td>A</td>\n",
       "      <td>80</td>\n",
       "      <td>A</td>\n",
       "      <td>60</td>\n",
       "      <td>B</td>\n",
       "      <td>80</td>\n",
       "      <td>80</td>\n",
       "      <td>370</td>\n",
       "    </tr>\n",
       "    <tr>\n",
       "      <th>1</th>\n",
       "      <td>Yussuf</td>\n",
       "      <td>80</td>\n",
       "      <td>A</td>\n",
       "      <td>70</td>\n",
       "      <td>A</td>\n",
       "      <td>50</td>\n",
       "      <td>C</td>\n",
       "      <td>60</td>\n",
       "      <td>B</td>\n",
       "      <td>70</td>\n",
       "      <td>70</td>\n",
       "      <td>330</td>\n",
       "    </tr>\n",
       "    <tr>\n",
       "      <th>2</th>\n",
       "      <td>Abdi</td>\n",
       "      <td>90</td>\n",
       "      <td>A</td>\n",
       "      <td>60</td>\n",
       "      <td>B</td>\n",
       "      <td>70</td>\n",
       "      <td>A</td>\n",
       "      <td>45</td>\n",
       "      <td>D</td>\n",
       "      <td>70</td>\n",
       "      <td>70</td>\n",
       "      <td>335</td>\n",
       "    </tr>\n",
       "  </tbody>\n",
       "</table>\n",
       "</div>"
      ],
      "text/plain": [
       "      Name  English English_grade  Kiswahili Kiswahili_grade  Math Math_grade  \\\n",
       "0  Dominic       80             A         70               A    80          A   \n",
       "1   Yussuf       80             A         70               A    50          C   \n",
       "2     Abdi       90             A         60               B    70          A   \n",
       "\n",
       "   Science Science_grade  GHC  GHC_grade  Total  \n",
       "0       60             B   80         80    370  \n",
       "1       60             B   70         70    330  \n",
       "2       45             D   70         70    335  "
      ]
     },
     "execution_count": 21,
     "metadata": {},
     "output_type": "execute_result"
    }
   ],
   "source": [
    "import pandas as pd\n",
    "\n",
    "df = pd.DataFrame(class_performance)\n",
    "df"
   ]
  }
 ],
 "metadata": {
  "kernelspec": {
   "display_name": "Python 3",
   "language": "python",
   "name": "python3"
  },
  "language_info": {
   "codemirror_mode": {
    "name": "ipython",
    "version": 3
   },
   "file_extension": ".py",
   "mimetype": "text/x-python",
   "name": "python",
   "nbconvert_exporter": "python",
   "pygments_lexer": "ipython3",
   "version": "3.10.12"
  },
  "orig_nbformat": 4
 },
 "nbformat": 4,
 "nbformat_minor": 2
}
