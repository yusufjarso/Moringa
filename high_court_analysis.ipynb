{
 "cells": [
  {
   "cell_type": "code",
   "execution_count": 1,
   "metadata": {},
   "outputs": [],
   "source": [
    "import pandas as pd\n",
    "import os \n",
    "import glob\n",
    "import pandas as pd\n",
    "import pandas as pd\n",
    "import numpy as np\n",
    "import matplotlib.pyplot as plt\n",
    "import seaborn as sns\n",
    "import openpyxl\n",
    "import datetime \n",
    "\n",
    "# path of the folder\n",
    "folder_path = '/Users/jud-05/Desktop/2. CoA/High Court'\n",
    "new_path = '/Users/jud-05/Desktop/2. CoA/combined/High Court'\n",
    "path = '/Users/jud-05/Desktop/2. CoA/combined/dcrt'\n",
    "\n",
    "\n",
    "# Ensure the new directory exists\n",
    "os.makedirs(new_path, exist_ok=True)\n",
    "\n",
    "# reading all the excel files\n",
    "file_names = glob.glob(folder_path + \"/*.xls\")\n",
    "\n",
    "file_names\n",
    "\n",
    "#create a file name without the directory and the extension and name each as the first word of the file\n",
    "file_names2 = [os.path.basename(f) for f in file_names]\n",
    "file_names2 = [f.split('.')[0] for f in file_names2]\n",
    "file_names2 = [f.split()[0] for f in file_names2]\n",
    "file_names2\n",
    "\n",
    "\n",
    "#save files names as csv files and rename each file with the name of the original file\n",
    "for f in file_names:\n",
    "    df = pd.read_excel(f, skiprows=4)  # Skip the first 4 rows\n",
    "    # Extract the base name of the file and save it as a .csv in the new directory\n",
    "    base_name = os.path.basename(f)\n",
    "    df.to_csv(f'{new_path}/{base_name}.csv', index=False)\n",
    "    "
   ]
  },
  {
   "cell_type": "code",
   "execution_count": 2,
   "metadata": {},
   "outputs": [],
   "source": [
    "# Create a file name without the directory and the extension, appending a unique identifier\n",
    "file_names2 = [os.path.basename(f).split('.')[0].split()[0] + '_' + str(i) for i, f in enumerate(file_names)]\n",
    "\n",
    "# Save files as csv files\n",
    "for f, base_name in zip(file_names, file_names2):\n",
    "    df = pd.read_excel(f, skiprows=4)  # Skip the first 4 rows\n",
    "    # Save it as a .csv in the new directory\n",
    "    df.to_csv(f'{path}/{base_name}.csv', index=False)"
   ]
  },
  {
   "cell_type": "code",
   "execution_count": 8,
   "metadata": {},
   "outputs": [
    {
     "name": "stderr",
     "output_type": "stream",
     "text": [
      "/var/folders/5q/4jwyrq8j3_95g9th989sqyfw0000gn/T/ipykernel_9679/3877960437.py:13: FutureWarning: The behavior of DataFrame concatenation with empty or all-NA entries is deprecated. In a future version, this will no longer exclude empty or all-NA columns when determining the result dtypes. To retain the old behavior, exclude the relevant entries before the concat operation.\n",
      "  combined_csv = pd.concat(li, axis=0, ignore_index=True)\n"
     ]
    }
   ],
   "source": [
    "# Get all the CSV files in the directory\n",
    "all_files = glob.glob(path + \"/*.csv\")\n",
    "\n",
    "all_files\n",
    "\n",
    "# Combine all the CSV files into a single DataFrame and insert a column with the name of the file\n",
    "li = []\n",
    "for filename in all_files:\n",
    "    df = pd.read_csv(filename, index_col=None, header=0)\n",
    "    df['file_name'] = os.path.basename(filename)\n",
    "    li.append(df)\n",
    "       \n",
    "combined_csv = pd.concat(li, axis=0, ignore_index=True)\n",
    "\n",
    "\n",
    "#save the combined file as a csv\n",
    "combined_csv.to_csv(f'{path}/raw_data/High Court/HC_combined.csv', index=False)"
   ]
  },
  {
   "cell_type": "code",
   "execution_count": 9,
   "metadata": {},
   "outputs": [],
   "source": [
    "combined_csv['file_name'] = combined_csv['file_name'].str.replace('.csv', '')\n",
    "\n",
    "#remove in file_name the letters after the underscore\n",
    "combined_csv['file_name'] = combined_csv['file_name'].str.split('_').str[0]\n",
    " #insert \n",
    "\n",
    "#move the file_name column to the first column\n",
    "cols = combined_csv.columns.tolist()\n",
    "cols = cols[-1:] + cols[:-1]\n",
    "combined_csv = combined_csv[cols]\n",
    "\n",
    "#drop Unnamed: 0 column\n",
    "combined_csv = combined_csv.drop('Unnamed: 0', axis=1)\n",
    "\n",
    " #save the combined file as a csv\n",
    "combined_csv.to_csv(f'{path}/raw_data/High Court/HC_combined.csv', index=False)"
   ]
  },
  {
   "cell_type": "code",
   "execution_count": 10,
   "metadata": {},
   "outputs": [],
   "source": [
    "#rename columns\n",
    "# Simplified version of data.rename() function\n",
    "combined_csv.rename(columns={\n",
    "    'file_name': 'court_name',\n",
    "    'Day': 'date_dd',\n",
    "    'Month': 'date_mon',\n",
    "    'Year': 'date_yyyy',\n",
    "    'Code': 'caseid_type',\n",
    "    'No.': 'caseid_no',\n",
    "    'Day.1': 'filed_dd',\n",
    "    'Month.1': 'filed_mon',\n",
    "    'Year.1': 'filed_yyyy',\n",
    "    'Name of Court': 'origcourt',\n",
    "    'Code.1': 'appeal_type',\n",
    "    'No..1': 'appeal_no',\n",
    "    'Year.2': 'appeal_yyyy',\n",
    "    '\\n(Select)': 'case_type',\n",
    "    'Name of Judge 1 or Magistrate/DR or Kadhi': 'bench_1',\n",
    "    'Judge 2': 'bench_2',\n",
    "    'Judge 3': 'bench_3',\n",
    "    'Judge 4': 'bench_4',\n",
    "    'Judge 5': 'bench_5',\n",
    "    'Judge 6': 'bench_6',\n",
    "    'Judge 7': 'bench_7',\n",
    "    '(Select option)': 'comingfor',\n",
    "    '(Select option).1': 'outcome',\n",
    "    '(Select option).2': 'reason_adj',\n",
    "    'Day.2': 'next_dd',\n",
    "    'Month.2': 'next_mon',\n",
    "    'Year.3': 'next_yyyy',\n",
    "    'M': 'firstparty_m',\n",
    "    'F': 'firstparty_f',\n",
    "    'Org.': 'firstparty_org',\n",
    "    'M.1': 'secondparty_m',\n",
    "    'F.1': 'secondparty_f',\n",
    "    'Org..1': 'secondparty_o',\n",
    "    '(Y/N)': 'legalrep',\n",
    "    'P \\n(Enter No.)': 'p_witness',\n",
    "    'D\\n(Enter No.)': 'd_witness',\n",
    "    '(Enter No.)': 'custody',\n",
    "    '(Free text)': 'other_details'\n",
    "}, inplace=True)\n",
    "\n",
    "#save the combined file as a csv\n",
    "combined_csv.to_csv(f'{path}/raw_data/High Court/HC_combined.csv', index=False)"
   ]
  }
 ],
 "metadata": {
  "kernelspec": {
   "display_name": "Python 3",
   "language": "python",
   "name": "python3"
  },
  "language_info": {
   "codemirror_mode": {
    "name": "ipython",
    "version": 3
   },
   "file_extension": ".py",
   "mimetype": "text/x-python",
   "name": "python",
   "nbconvert_exporter": "python",
   "pygments_lexer": "ipython3",
   "version": "3.12.2"
  }
 },
 "nbformat": 4,
 "nbformat_minor": 2
}
